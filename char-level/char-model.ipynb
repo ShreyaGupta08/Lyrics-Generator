{
 "cells": [
  {
   "cell_type": "code",
   "execution_count": 1,
   "metadata": {
    "collapsed": true
   },
   "outputs": [],
   "source": [
    "import pandas as pd\n",
    "import numpy as np\n",
    "import os"
   ]
  },
  {
   "cell_type": "code",
   "execution_count": 2,
   "metadata": {
    "collapsed": true
   },
   "outputs": [],
   "source": [
    "import urllib.request as request"
   ]
  },
  {
   "cell_type": "code",
   "execution_count": 3,
   "metadata": {
    "collapsed": true
   },
   "outputs": [],
   "source": [
    "page = request.urlopen('https://raw.githubusercontent.com/ShreyaGupta08/Lyrics-Generator/master/data/coldplay_lyrics.txt?token=Am0F-WmW3zvC0ZaO9P4AGI2X0CgudlMIks5cphfnwA%3D%3D')"
   ]
  },
  {
   "cell_type": "code",
   "execution_count": 4,
   "metadata": {
    "collapsed": true
   },
   "outputs": [],
   "source": [
    "text = bytes(page.read())"
   ]
  },
  {
   "cell_type": "code",
   "execution_count": 5,
   "metadata": {
    "collapsed": true
   },
   "outputs": [],
   "source": [
    "text = text.decode('ASCII')"
   ]
  },
  {
   "cell_type": "code",
   "execution_count": 7,
   "metadata": {},
   "outputs": [
    {
     "data": {
      "text/plain": [
       "2267"
      ]
     },
     "execution_count": 7,
     "metadata": {},
     "output_type": "execute_result"
    }
   ],
   "source": [
    "len(set(text.split()))"
   ]
  },
  {
   "cell_type": "code",
   "execution_count": null,
   "metadata": {
    "collapsed": true
   },
   "outputs": [],
   "source": []
  },
  {
   "cell_type": "code",
   "execution_count": null,
   "metadata": {
    "collapsed": true
   },
   "outputs": [],
   "source": [
    "def tokenize_lyrics(lyrics):\n",
    "    from nltk.tokenize import RegexpTokenizer\n",
    "    tokenizer = RegexpTokenizer(r\"[a-z]|\\s|'\")\n",
    "    return tokenizer.tokenize(lyrics.lower())\n",
    "\n",
    "ascii_values = [ord(' '), ord(\"'\")] + list(range(ord('a'), ord('z') + 1))\n",
    "chars = list(map(chr, ascii_values))\n",
    "indices = list(range(len(ascii_values)))\n",
    "char_to_index = dict(zip(chars, indices))\n",
    "index_to_char = dict(zip(indices, chars))\n",
    "\n",
    "def generate_sentences(tokenized_lyrics, max_len=20, step=1):\n",
    "    sentences = []\n",
    "    next_char = []\n",
    "    for i in range(0, len(tokenized_lyrics) - max_len, step):\n",
    "        sentences.append(tokenized_lyrics[i:i + max_len])\n",
    "        next_char.append(tokenized_lyrics[i + max_len])\n",
    "        \n",
    "    return sentences, next_char\n",
    "\n",
    "def vectorize_sentences(sentences, next_char, max_len=20):\n",
    "    x = np.zeros((len(sentences), max_len, len(chars)), dtype=np.int32)\n",
    "    y = np.zeros((len(sentences), len(chars)), dtype=np.int32)\n",
    "\n",
    "    for i, sentence in enumerate(sentences):\n",
    "        for t, char in enumerate(sentence):\n",
    "            x[i, t, char_to_index[char]] = 1\n",
    "        y[i, char_to_index[next_char[i]]] = 1\n",
    "        \n",
    "    return x,y\n",
    "\n",
    "def process_lyrics(lyrics):\n",
    "    tokenized_lyrics = tokenize_lyrics(lyrics)\n",
    "    sentences, next_char = generate_sentences(tokenized_lyrics)\n",
    "    x, y = vectorize_sentences(sentences, next_char)\n",
    "    return x,y"
   ]
  }
 ],
 "metadata": {
  "kernelspec": {
   "display_name": "Python 3",
   "language": "python",
   "name": "python3"
  },
  "language_info": {
   "codemirror_mode": {
    "name": "ipython",
    "version": 3
   },
   "file_extension": ".py",
   "mimetype": "text/x-python",
   "name": "python",
   "nbconvert_exporter": "python",
   "pygments_lexer": "ipython3",
   "version": "3.6.3"
  }
 },
 "nbformat": 4,
 "nbformat_minor": 2
}
