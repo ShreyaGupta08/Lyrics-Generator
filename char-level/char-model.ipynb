{
 "cells": [
  {
   "cell_type": "code",
   "execution_count": 1,
   "metadata": {},
   "outputs": [],
   "source": [
    "import pandas as pd\n",
    "import numpy as np\n",
    "import os"
   ]
  },
  {
   "cell_type": "code",
   "execution_count": 2,
   "metadata": {},
   "outputs": [],
   "source": [
    "data_dir = 'data'\n",
    "filename = 'coldplay_lyrics.txt'\n",
    "\n",
    "coldplay_songs = open(os.path.join(os.pardir, data_dir, filename), 'r')"
   ]
  },
  {
   "cell_type": "code",
   "execution_count": 3,
   "metadata": {},
   "outputs": [],
   "source": [
    "lyrics = coldplay_songs.read()"
   ]
  },
  {
   "cell_type": "code",
   "execution_count": 4,
   "metadata": {},
   "outputs": [
    {
     "data": {
      "text/plain": [
       "str"
      ]
     },
     "execution_count": 4,
     "metadata": {},
     "output_type": "execute_result"
    }
   ],
   "source": [
    "type(lyrics)"
   ]
  },
  {
   "cell_type": "code",
   "execution_count": 5,
   "metadata": {},
   "outputs": [
    {
     "data": {
      "text/plain": [
       "154628"
      ]
     },
     "execution_count": 5,
     "metadata": {},
     "output_type": "execute_result"
    }
   ],
   "source": [
    "len(lyrics)"
   ]
  },
  {
   "cell_type": "code",
   "execution_count": 6,
   "metadata": {},
   "outputs": [],
   "source": [
    "def tokenize_lyrics(lyrics):\n",
    "    from nltk.tokenize import RegexpTokenizer\n",
    "    tokenizer = RegexpTokenizer(r\"[a-z]|\\s|'\")\n",
    "    return tokenizer.tokenize(lyrics.lower())\n",
    "\n",
    "ascii_values = [ord(' '), ord(\"'\")] + list(range(ord('a'), ord('z') + 1))\n",
    "chars = list(map(chr, ascii_values))\n",
    "indices = list(range(len(ascii_values)))\n",
    "char_to_index = dict(zip(chars, indices))\n",
    "index_to_char = dict(zip(indices, chars))\n",
    "\n",
    "def generate_sentences(tokenized_lyrics, max_len=20, step=1):\n",
    "    sentences = []\n",
    "    next_char = []\n",
    "    for i in range(0, len(tokenized_lyrics) - max_len, step):\n",
    "        sentences.append(tokenized_lyrics[i:i + max_len])\n",
    "        next_char.append(tokenized_lyrics[i + max_len])\n",
    "        \n",
    "    return sentences, next_char\n",
    "\n",
    "def vectorize_sentences(sentences, next_char, max_len=20):\n",
    "    x = np.zeros((len(sentences), max_len, len(chars)), dtype=np.int32)\n",
    "    y = np.zeros((len(sentences), len(chars)), dtype=np.int32)\n",
    "\n",
    "    for i, sentence in enumerate(sentences):\n",
    "        for t, char in enumerate(sentence):\n",
    "            x[i, t, char_to_index[char]] = 1\n",
    "        y[i, char_to_index[next_char[i]]] = 1\n",
    "        \n",
    "    return x,y\n",
    "\n",
    "def process_lyrics(lyrics):\n",
    "    tokenized_lyrics = tokenize_lyrics(lyrics)\n",
    "    sentences, next_char = generate_sentences(tokenized_lyrics)\n",
    "    x, y = vectorize_sentences(sentences, next_char)\n",
    "    return x,y"
   ]
  },
  {
   "cell_type": "code",
   "execution_count": 7,
   "metadata": {},
   "outputs": [],
   "source": [
    "x, y = process_lyrics(lyrics)"
   ]
  },
  {
   "cell_type": "code",
   "execution_count": 8,
   "metadata": {},
   "outputs": [],
   "source": [
    "def sample(preds, temperature=1.0):\n",
    "    preds = np.asarray(preds).astype('float64')\n",
    "    preds = np.log(preds) / temperature\n",
    "    exp_preds = np.exp(preds)\n",
    "    preds = exp_preds / np.sum(exp_preds)\n",
    "    probas = np.random.multinomial(1, preds, 1)\n",
    "    return np.argmax(probas)\n",
    "\n",
    "import sys\n",
    "from numpy import random\n",
    "\n",
    "def on_epoch_end(epoch, logs, max_len=20):\n",
    "    print('----- Generating text after Epoch: %d' % epoch)\n",
    "\n",
    "    start_index = random.randint(0, len(lyrics) - max_len - 1)\n",
    "    for diversity in [0.2, 0.5]:\n",
    "        print('----- Diversity:', diversity)\n",
    "\n",
    "        generated = ''\n",
    "        sentence = lyrics[start_index: start_index + max_len]\n",
    "        generated += sentence\n",
    "        print('----- Generating with seed: \"' + sentence + '\"')\n",
    "        sys.stdout.write(generated)\n",
    "\n",
    "        for i in range(400):\n",
    "            x_pred = np.zeros((1, max_len, len(chars)))\n",
    "            for t, char in enumerate(sentence):\n",
    "                x_pred[0, t, char_to_index[char]] = 1.\n",
    "\n",
    "            preds = model.predict(x_pred, verbose=0)[0]\n",
    "            next_index = sample(preds, diversity)\n",
    "            next_char = index_to_char[next_index]\n",
    "\n",
    "            generated += next_char\n",
    "            sentence = sentence[1:] + next_char\n",
    "\n",
    "            sys.stdout.write(next_char)\n",
    "            sys.stdout.flush()\n",
    "        print()"
   ]
  },
  {
   "cell_type": "code",
   "execution_count": 9,
   "metadata": {},
   "outputs": [
    {
     "name": "stderr",
     "output_type": "stream",
     "text": [
      "Using TensorFlow backend.\n"
     ]
    }
   ],
   "source": [
    "from keras.models import Sequential\n",
    "from keras.layers import Dense, Activation, LSTM\n",
    "from keras.optimizers import Adam, RMSprop\n",
    "from keras.callbacks import LambdaCallback"
   ]
  },
  {
   "cell_type": "code",
   "execution_count": 10,
   "metadata": {},
   "outputs": [],
   "source": [
    "max_len = 20\n",
    "\n",
    "model = Sequential([\n",
    "    LSTM(units=256, input_shape=(max_len, len(chars))),\n",
    "    Dense(len(chars)),\n",
    "    Activation('softmax')\n",
    "])"
   ]
  },
  {
   "cell_type": "code",
   "execution_count": 11,
   "metadata": {},
   "outputs": [
    {
     "name": "stdout",
     "output_type": "stream",
     "text": [
      "_________________________________________________________________\n",
      "Layer (type)                 Output Shape              Param #   \n",
      "=================================================================\n",
      "lstm_1 (LSTM)                (None, 256)               291840    \n",
      "_________________________________________________________________\n",
      "dense_1 (Dense)              (None, 28)                7196      \n",
      "_________________________________________________________________\n",
      "activation_1 (Activation)    (None, 28)                0         \n",
      "=================================================================\n",
      "Total params: 299,036\n",
      "Trainable params: 299,036\n",
      "Non-trainable params: 0\n",
      "_________________________________________________________________\n"
     ]
    }
   ],
   "source": [
    "model.summary()"
   ]
  },
  {
   "cell_type": "code",
   "execution_count": 12,
   "metadata": {},
   "outputs": [],
   "source": [
    "model.compile(loss='categorical_crossentropy', optimizer=RMSprop(lr=0.01), metrics=['accuracy'])"
   ]
  },
  {
   "cell_type": "code",
   "execution_count": 13,
   "metadata": {},
   "outputs": [],
   "source": [
    "print_callback = LambdaCallback(on_epoch_end=on_epoch_end)"
   ]
  },
  {
   "cell_type": "code",
   "execution_count": 14,
   "metadata": {},
   "outputs": [],
   "source": [
    "history = []"
   ]
  },
  {
   "cell_type": "code",
   "execution_count": 15,
   "metadata": {
    "scrolled": true
   },
   "outputs": [
    {
     "name": "stdout",
     "output_type": "stream",
     "text": [
      "Epoch 1/10\n",
      "154608/154608 [==============================] - 114s 739us/step - loss: 2.3065 - acc: 0.3417\n",
      "----- Generating text after Epoch: 0\n",
      "----- Diversity: 0.2\n",
      "----- Generating with seed: \"in love and i missed\"\n",
      "in love and i missed i want to cal you we'll got the sin the stite you we'll got the with you before you we're gonna get it get it together the when i want to we'll the the with you do and i want to the say i want to whe waiting the the sin i want to see you we'll gonna get it get it get it toge it and i was a the the with the with you i want to the will i want to see you we'll got the sin you we'll bee the with you \n",
      "----- Diversity: 0.5\n",
      "----- Generating with seed: \"in love and i missed\"\n",
      "in love and i missed you my and see it back i have you the brow i want you we'll get the till i stear you we'll be i wanta the stan in i need it on you the white i want to the with the waiting to can the but you befind you'll feeling of the with the in you heart bee you want the brime i love you let you it sey the sind me the sine on you we're gonna get it toge what i white you feel you will you tre the whith you and\n",
      "Epoch 2/10\n",
      "154608/154608 [==============================] - 125s 808us/step - loss: 1.4215 - acc: 0.5671\n",
      "----- Generating text after Epoch: 1\n",
      "----- Diversity: 0.2\n",
      "----- Generating with seed: \"er before she says n\"\n",
      "er before she says now i don't wart you world it all the streed i can't get i don't no i don't no i don't no i don't no i don't no i don't no i don't no i don't no i don't want to go to stread i can't get i want to start i could be a realize all the start a place and i can't get i don't no i don't no i don't want to fir you wing my heart and i don't no i don't no i don't no i don't no i don't no i don't no i don't no\n",
      "----- Diversity: 0.5\n",
      "----- Generating with seed: \"er before she says n\"\n",
      "er before she says now and you are i can't get the streed i realized this all you are things of and i could and i don't know when i say where the fore i know and i could wait you and i don't want anothing my heart love a your blain oh and i don't know where where the world i could wait to spen i want to change you cut you all you but i real you will brough and i'm go and i mide i don't and i don't no i don't no i don\n",
      "Epoch 3/10\n",
      "154608/154608 [==============================] - 120s 774us/step - loss: 1.2407 - acc: 0.6198\n",
      "----- Generating text after Epoch: 2\n",
      "----- Diversity: 0.2\n",
      "----- Generating with seed: \"e people going after\"\n",
      "e people going after we live in a beautiful singing on a stop i see the storm just say you'll go to me in the sun all the stoped we live in a beautiful world you and i don't want to fix you i'm gonna be to spread it on a singing be my head out i saw the stoped bleak i could write a singing of my head you're the street on a prigio the world i see you can on your eyes i know we're gonna get it get it together i know we\n",
      "----- Diversity: 0.5\n",
      "----- Generating with seed: \"e people going after\"\n",
      "e people going after all on your own wo"
     ]
    },
    {
     "name": "stderr",
     "output_type": "stream",
     "text": [
      "/home/raghuvansh/anaconda3/lib/python3.6/site-packages/ipykernel_launcher.py:3: RuntimeWarning: divide by zero encountered in log\n",
      "  This is separate from the ipykernel package so we can avoid doing imports until\n"
     ]
    },
    {
     "name": "stdout",
     "output_type": "stream",
     "text": [
      "r it all always came for you and i'm sure to me for you could love you are i'll speay and i'm soreding and i don't let it feels like i try to pull you come home and i would it me to me and i stould have in on my day and i know well the start i want to pull through be break your back and the end a could wen anybody know when you don't it's toucher came from my head on a bigger ju\n",
      "Epoch 4/10\n",
      "154608/154608 [==============================] - 118s 760us/step - loss: 1.1467 - acc: 0.6484\n",
      "----- Generating text after Epoch: 3\n",
      "----- Diversity: 0.2\n",
      "----- Generating with seed: \"nd for feel incompre\"\n",
      "nd for feel incompread the world we don't know we're gonna get it get it together and sinking light the start a perfes when i really here and in my heart and in the start a perfel so he word and sleep sleep sleep sleep sleep sleep sleep sleep sleep sleep sleep sleep sleep sleep sleep sleep sleep sleep sleep sleep sleep sleep sleep sleep sleep sleep sleep sleep sleep sleep sleep sleep sleep sleep sleep sleep sleep sle\n",
      "----- Diversity: 0.5\n",
      "----- Generating with seed: \"nd for feel incompre\"\n",
      "nd for feel incompre tur the start oh oh oh oh oh oh ooooooooooooooooooooh oh oh oh oh oooooooooooooooooooooooooooooooooooooooooooooooh ooh ooh ooh ooh ooh ooh ooh ooh ooh ooh ooh ooh ooh ooh ooh ooh ooh ooh ooh ooh ooh ooh ooh ooh ooh ooh ooh ooh ooh ooh ooh ooh ooh ooh ooh ooh ooh ooh ooh ooh ooh ooh ooh ooh ooh ooh ooh ooh ooh ooh ooh ooh ooh ooh ooh ooh ooh ooh ooh ooh ooh ooh ooh ooh ooh ooh ooh ooh ooh ooh ooh \n",
      "Epoch 5/10\n",
      "154608/154608 [==============================] - 119s 769us/step - loss: 1.0887 - acc: 0.6662\n",
      "----- Generating text after Epoch: 4\n",
      "----- Diversity: 0.2\n",
      "----- Generating with seed: \" your eyes and see t\"\n",
      " your eyes and see the world won't you let it brother we thing that i want to live it's the tilling the world won't you let it break your heart on a thing that i want to live it's the one i love you i wouldn't like it on a song a tunner part the strong on a tuppet it on a spell a rush the world won't you let it break your heart oh oh oh oh oh oh oh oh oh oh oh oh oh oh oh oh oh oh oh oh oh oh oh oh oh oh oh oh oh oh \n",
      "----- Diversity: 0.5\n",
      "----- Generating with seed: \" your eyes and see t\"\n",
      " your eyes and see the world long on me all me in i could write a song stand it follow on the line and i miss you yeah i want to live it's the world we live in a beautiful world would i found what is fould be the start and where i don't let it fell that i lost that i started let you so hurt me the start what you gonna do you don't let it break your heart where i want to foleed and i wanted to it fell the world some t\n",
      "Epoch 6/10\n",
      "154608/154608 [==============================] - 120s 776us/step - loss: 1.0470 - acc: 0.6784\n",
      "----- Generating text after Epoch: 5\n",
      "----- Diversity: 0.2\n",
      "----- Generating with seed: \"gether and flow we'r\"\n",
      "gether and flow we're gonna get it get it together and the think of the streets and i can't explain on and i know says i know says it's not lougit when i'm gonna buy this see the shieles all the time i try to pull you close you disappear and i know says it's a right say i don't know what i know we're gonna get it get it together and flowed i can't explain i know says it's not i canna talking on the rain a where will \n",
      "----- Diversity: 0.5\n",
      "----- Generating with seed: \"gether and flow we'r\"\n",
      "gether and flow we're gonna get it get it together i know some kind of a dreaming of the rade i was seet say it feels like sugar kisses oh now heade and i ran a la la la la la la la la la la la la la la la la la la la la la la la la la la la la la la la la la la la la la la la la la la la la la la la la la la la la la la la la la la la la la la la la la la la la la la la la la la la la la la la la la la la la la la l\n",
      "Epoch 7/10\n",
      "154608/154608 [==============================] - 127s 821us/step - loss: 1.0166 - acc: 0.6875\n",
      "----- Generating text after Epoch: 6\n",
      "----- Diversity: 0.2\n",
      "----- Generating with seed: \"the soldier's wife f\"\n",
      "the soldier's wife from the stars i was sent the streets are the streets all the things you are i'll go forced in the streets and it's such a fear is but i was a stranger so when you go to see what it see and you are you are you are you are you are you are you are you are you lose you belong what it's true i don't no i don't no i don't no i don't no i don't no i don't no i don't no i don't no i don't no i don't no i \n",
      "----- Diversity: 0.5\n",
      "----- Generating with seed: \"the soldier's wife f\"\n",
      "the soldier's wife from the stars i couldn't let you better to the streets and sound up to do out and i hear you no doub oo  one but i'm gonna find sometimes you and i wake up specied just a sky full of dreas is love me by your arms and the world could be anybody to drum i think you see and the world but that i want to see what i'm all your way that i can see the told us 'cause in the dark a little chais in the world\n",
      "Epoch 8/10\n",
      "154608/154608 [==============================] - 123s 794us/step - loss: 0.9958 - acc: 0.6945\n",
      "----- Generating text after Epoch: 7\n",
      "----- Diversity: 0.2\n",
      "----- Generating with seed: \"ould write it down o\"\n",
      "ould write it down over prees i wanna see the streews every right me cause i wanna be my mirror me don't let it break your heart and i wanna see the streets i wanna talk to see what i'm all about on me and i'll be come on me and i'll be there in the speed of mine i hear you come over they came for you can go for it on the road and i'm just a ghost oh yeah oh yeah yeah yeah yeah yeah yeah yeah yeah yeah yeah yeah yeah\n",
      "----- Diversity: 0.5\n",
      "----- Generating with seed: \"ould write it down o\"\n",
      "ould write it down over floating out to see what if you say you'll go to lit the world it was so hear not when you love me the future i can't explain i know i'm in the side of cold in the right sometimes you're a long that when the mest in the future i can't a flow we're gonna get it get it together i know saint day and i can't explain and i have no doubt one day the furunthol crossed there when you won't you lost of\n",
      "Epoch 9/10\n",
      "154608/154608 [==============================] - 123s 794us/step - loss: 0.9793 - acc: 0.6989\n",
      "----- Generating text after Epoch: 8\n",
      "----- Diversity: 0.2\n",
      "----- Generating with seed: \"on or at least you w\"\n",
      "on or at least you wanna call the shine i wanna carefall shine for you and i can't avoid i think i wanna way to go and because i can't avoid and i wanna care for you and i can't sleep by the stars and i wanna be your heart and when you see the world in your heart bells a prister and when you see the world in your head is a waterfall a mistake and i can't explain on your head i wanna call you yeah we do yeah in the st\n",
      "----- Diversity: 0.5\n",
      "----- Generating with seed: \"on or at least you w\"\n",
      "on or at least you want to be could be scared in your head out to see what i'm a ladder to me in the streets all the things that you say oh my head out to see what i'm a line i hear you come out for you i could see it last she when you can't be by this world and sing you never meant you want to be brother and change what they say when you'll are come on for the street come out oh and it's so a piirung i could be the \n",
      "Epoch 10/10\n",
      "154608/154608 [==============================] - 122s 789us/step - loss: 0.9687 - acc: 0.7026\n",
      "----- Generating text after Epoch: 9\n",
      "----- Diversity: 0.2\n",
      "----- Generating with seed: \"in on me is it becau\"\n",
      "in on me is it because i want to go so i reach for you i'm sorry i want to go to see where i want to go to fix you just better sometimes you and i want to go i could have no doubt one one i want to go to see what it stop out to see what it feels there was a start and i wish i'd spoke i'm alring i heard you think i want to go stop is for the sun up and i want to go and you say you'll go forwards and i can't start and \n",
      "----- Diversity: 0.5\n",
      "----- Generating with seed: \"in on me is it becau\"\n"
     ]
    },
    {
     "name": "stdout",
     "output_type": "stream",
     "text": [
      "in on me is it because it always ur when i want to go to see what it stop out of the start sweet again i don't no i don't no i don't no i don't no i don't no i don't no i don't no i don't no i don't no i don't no i don't no i don't no i don't no i don't no i don't no i don't no i don't no i don't no i don't no i don't no i don't no i don't no i don't no i don't no i don't no i don't no i don't no i don't no i don't n\n"
     ]
    }
   ],
   "source": [
    "history.append(\n",
    "    model.fit(\n",
    "        x,\n",
    "        y,\n",
    "        batch_size=128,\n",
    "        epochs=10,\n",
    "        callbacks=[print_callback]\n",
    "    )\n",
    ")"
   ]
  },
  {
   "cell_type": "code",
   "execution_count": 28,
   "metadata": {},
   "outputs": [
    {
     "data": {
      "text/plain": [
       "dict_keys(['loss', 'acc'])"
      ]
     },
     "execution_count": 28,
     "metadata": {},
     "output_type": "execute_result"
    }
   ],
   "source": [
    "history[0].history.keys()"
   ]
  },
  {
   "cell_type": "code",
   "execution_count": 32,
   "metadata": {},
   "outputs": [],
   "source": [
    "import matplotlib.pyplot as plt"
   ]
  },
  {
   "cell_type": "code",
   "execution_count": 33,
   "metadata": {},
   "outputs": [
    {
     "data": {
      "text/plain": [
       "[<matplotlib.lines.Line2D at 0x7f25cf8bc630>]"
      ]
     },
     "execution_count": 33,
     "metadata": {},
     "output_type": "execute_result"
    },
    {
     "data": {
      "image/png": "[encoded data removed]",
      "text/plain": [
       "<Figure size 432x288 with 1 Axes>"
      ]
     },
     "metadata": {},
     "output_type": "display_data"
    }
   ],
   "source": [
    "plt.plot(history[0].history['loss'])"
   ]
  },
  {
   "cell_type": "code",
   "execution_count": 34,
   "metadata": {},
   "outputs": [
    {
     "data": {
      "text/plain": [
       "[<matplotlib.lines.Line2D at 0x7f25cf892860>]"
      ]
     },
     "execution_count": 34,
     "metadata": {},
     "output_type": "execute_result"
    },
    {
     "data": {
      "image/png": "[encoded data removed]",
      "text/plain": [
       "<Figure size 432x288 with 1 Axes>"
      ]
     },
     "metadata": {},
     "output_type": "display_data"
    }
   ],
   "source": [
    "plt.plot(history[0].history['acc'])"
   ]
  },
  {
   "cell_type": "code",
   "execution_count": 25,
   "metadata": {},
   "outputs": [],
   "source": [
    "def generate_output():\n",
    "    generated = ''\n",
    "    usr_input = input(\"Write the beginning of your poem, the Coldplay machine will complete it. Your input is: \")\n",
    "\n",
    "    sentence = ('{0:0>' + str(Tx) + '}').format(usr_input).lower()\n",
    "    generated += usr_input \n",
    "\n",
    "    sys.stdout.write(\"\\n\\nHere is your song: \\n\\n\") \n",
    "    sys.stdout.write(usr_input)\n",
    "    for i in range(400):\n",
    "\n",
    "        x_pred = np.zeros((1, Tx, len(chars)))\n",
    "\n",
    "        for t, char in enumerate(sentence):\n",
    "            if char != '0':\n",
    "                x_pred[0, t, char_to_index[char]] = 1.\n",
    "\n",
    "        preds = model.predict(x_pred, verbose=0)[0]\n",
    "        next_index = sample(preds, temperature = 0.2)\n",
    "        next_char = index_to_char[next_index]\n",
    "\n",
    "        generated += next_char\n",
    "        sentence = sentence[1:] + next_char\n",
    "\n",
    "        sys.stdout.write(next_char)\n",
    "        sys.stdout.flush()\n",
    "\n",
    "        if next_char == '\\n':\n",
    "            continue"
   ]
  },
  {
   "cell_type": "code",
   "execution_count": 24,
   "metadata": {},
   "outputs": [
    {
     "name": "stdout",
     "output_type": "stream",
     "text": [
      "Write the beginning of your poem, the Coldplay machine will complete it. Your input is: look how they shine\n",
      "\n",
      "\n",
      "Here is your poem: \n",
      "\n",
      "look how they shine hello won't you let me in sight to see when you want to go stop"
     ]
    },
    {
     "name": "stderr",
     "output_type": "stream",
     "text": [
      "/home/raghuvansh/anaconda3/lib/python3.6/site-packages/ipykernel_launcher.py:3: RuntimeWarning: divide by zero encountered in log\n",
      "  This is separate from the ipykernel package so we can avoid doing imports until\n"
     ]
    },
    {
     "name": "stdout",
     "output_type": "stream",
     "text": [
      " is the sun said i hear you this i want to go so it for you you want to be a soul it feels for you i'm sorry i want to go to see what it feels like they're gonna go go to see what it feels they say is for the start sweep the sun and i want to go on the stars i want to go sometimes you and i will i couldn't see the sun and i want to go"
     ]
    }
   ],
   "source": [
    "Tx = 20\n",
    "generate_output()"
   ]
  },
  {
   "cell_type": "code",
   "execution_count": null,
   "metadata": {},
   "outputs": [],
   "source": [
    "save_dir = 'saved_model'\n",
    "\n",
    "if not os.path.exists(os.path.join(save_dir):\n",
    "    os.mkdir(os.path)"
   ]
  }
 ],
 "metadata": {
  "kernelspec": {
   "display_name": "Python 3",
   "language": "python",
   "name": "python3"
  },
  "language_info": {
   "codemirror_mode": {
    "name": "ipython",
    "version": 3
   },
   "file_extension": ".py",
   "mimetype": "text/x-python",
   "name": "python",
   "nbconvert_exporter": "python",
   "pygments_lexer": "ipython3",
   "version": "3.6.5"
  }
 },
 "nbformat": 4,
 "nbformat_minor": 2
}
